{
 "cells": [
  {
   "cell_type": "markdown",
   "id": "91ced876-e831-40a7-ab3d-dc3d80be12f8",
   "metadata": {},
   "source": [
    "# Análisis exploratorio de datos"
   ]
  },
  {
   "cell_type": "markdown",
   "id": "f2d93c5a-1a49-4096-8dbe-669a84991138",
   "metadata": {},
   "source": [
    "## `groceries-dataset`"
   ]
  },
  {
   "cell_type": "markdown",
   "id": "0a6319fa-4665-48ad-8229-cbf018735ceb",
   "metadata": {},
   "source": [
    "### Lectura de datos"
   ]
  },
  {
   "cell_type": "code",
   "execution_count": 110,
   "id": "32af1e27-ba7d-49d7-bf2f-748643d7ec08",
   "metadata": {},
   "outputs": [
    {
     "data": {
      "text/html": [
       "<div>\n",
       "<style scoped>\n",
       "    .dataframe tbody tr th:only-of-type {\n",
       "        vertical-align: middle;\n",
       "    }\n",
       "\n",
       "    .dataframe tbody tr th {\n",
       "        vertical-align: top;\n",
       "    }\n",
       "\n",
       "    .dataframe thead th {\n",
       "        text-align: right;\n",
       "    }\n",
       "</style>\n",
       "<table border=\"1\" class=\"dataframe\">\n",
       "  <thead>\n",
       "    <tr style=\"text-align: right;\">\n",
       "      <th></th>\n",
       "      <th>Member_number</th>\n",
       "      <th>Date</th>\n",
       "      <th>itemDescription</th>\n",
       "    </tr>\n",
       "  </thead>\n",
       "  <tbody>\n",
       "    <tr>\n",
       "      <th>0</th>\n",
       "      <td>1808</td>\n",
       "      <td>21-07-2015</td>\n",
       "      <td>tropical fruit</td>\n",
       "    </tr>\n",
       "    <tr>\n",
       "      <th>1</th>\n",
       "      <td>2552</td>\n",
       "      <td>05-01-2015</td>\n",
       "      <td>whole milk</td>\n",
       "    </tr>\n",
       "    <tr>\n",
       "      <th>2</th>\n",
       "      <td>2300</td>\n",
       "      <td>19-09-2015</td>\n",
       "      <td>pip fruit</td>\n",
       "    </tr>\n",
       "    <tr>\n",
       "      <th>3</th>\n",
       "      <td>1187</td>\n",
       "      <td>12-12-2015</td>\n",
       "      <td>other vegetables</td>\n",
       "    </tr>\n",
       "    <tr>\n",
       "      <th>4</th>\n",
       "      <td>3037</td>\n",
       "      <td>01-02-2015</td>\n",
       "      <td>whole milk</td>\n",
       "    </tr>\n",
       "    <tr>\n",
       "      <th>...</th>\n",
       "      <td>...</td>\n",
       "      <td>...</td>\n",
       "      <td>...</td>\n",
       "    </tr>\n",
       "    <tr>\n",
       "      <th>38760</th>\n",
       "      <td>4471</td>\n",
       "      <td>08-10-2014</td>\n",
       "      <td>sliced cheese</td>\n",
       "    </tr>\n",
       "    <tr>\n",
       "      <th>38761</th>\n",
       "      <td>2022</td>\n",
       "      <td>23-02-2014</td>\n",
       "      <td>candy</td>\n",
       "    </tr>\n",
       "    <tr>\n",
       "      <th>38762</th>\n",
       "      <td>1097</td>\n",
       "      <td>16-04-2014</td>\n",
       "      <td>cake bar</td>\n",
       "    </tr>\n",
       "    <tr>\n",
       "      <th>38763</th>\n",
       "      <td>1510</td>\n",
       "      <td>03-12-2014</td>\n",
       "      <td>fruit/vegetable juice</td>\n",
       "    </tr>\n",
       "    <tr>\n",
       "      <th>38764</th>\n",
       "      <td>1521</td>\n",
       "      <td>26-12-2014</td>\n",
       "      <td>cat food</td>\n",
       "    </tr>\n",
       "  </tbody>\n",
       "</table>\n",
       "<p>38765 rows × 3 columns</p>\n",
       "</div>"
      ],
      "text/plain": [
       "       Member_number        Date        itemDescription\n",
       "0               1808  21-07-2015         tropical fruit\n",
       "1               2552  05-01-2015             whole milk\n",
       "2               2300  19-09-2015              pip fruit\n",
       "3               1187  12-12-2015       other vegetables\n",
       "4               3037  01-02-2015             whole milk\n",
       "...              ...         ...                    ...\n",
       "38760           4471  08-10-2014          sliced cheese\n",
       "38761           2022  23-02-2014                  candy\n",
       "38762           1097  16-04-2014               cake bar\n",
       "38763           1510  03-12-2014  fruit/vegetable juice\n",
       "38764           1521  26-12-2014               cat food\n",
       "\n",
       "[38765 rows x 3 columns]"
      ]
     },
     "execution_count": 110,
     "metadata": {},
     "output_type": "execute_result"
    }
   ],
   "source": [
    "import pandas as pd\n",
    "\n",
    "df = pd.read_csv('data/groceries-dataset/Groceries_dataset.csv')\n",
    "df"
   ]
  },
  {
   "cell_type": "markdown",
   "id": "ba168db5-b18b-4fe3-9d25-eecb8c884b6e",
   "metadata": {},
   "source": [
    "### Preprocesamiento"
   ]
  },
  {
   "cell_type": "code",
   "execution_count": 111,
   "id": "4e976857-219b-4db8-8093-d5ea3cbe7213",
   "metadata": {},
   "outputs": [
    {
     "data": {
      "text/plain": [
       "member    object\n",
       "date      object\n",
       "item      object\n",
       "dtype: object"
      ]
     },
     "execution_count": 111,
     "metadata": {},
     "output_type": "execute_result"
    }
   ],
   "source": [
    "df.columns = ['member', 'date', 'item']\n",
    "\n",
    "df['member'] = df['member'].astype(str)\n",
    "# df['date'] = pd.to_datetime(df['date'], format='%d-%m-%Y')\n",
    "df.dtypes"
   ]
  },
  {
   "cell_type": "code",
   "execution_count": 169,
   "id": "178015f5-bd6c-4820-9291-a7c6e64b715c",
   "metadata": {},
   "outputs": [
    {
     "name": "stderr",
     "output_type": "stream",
     "text": [
      "/Users/wilmerags/anaconda3/envs/dm_env/lib/python3.10/site-packages/numpy/core/_methods.py:206: RuntimeWarning: Degrees of freedom <= 0 for slice\n",
      "  ret = _var(a, axis=axis, dtype=dtype, out=out, ddof=ddof,\n",
      "/Users/wilmerags/anaconda3/envs/dm_env/lib/python3.10/site-packages/numpy/core/_methods.py:163: RuntimeWarning: invalid value encountered in divide\n",
      "  arrmean = um.true_divide(arrmean, div, out=arrmean,\n",
      "/Users/wilmerags/anaconda3/envs/dm_env/lib/python3.10/site-packages/numpy/core/_methods.py:198: RuntimeWarning: invalid value encountered in scalar divide\n",
      "  ret = ret.dtype.type(ret / rcount)\n"
     ]
    }
   ],
   "source": [
    "import numpy as np\n",
    "from datetime import datetime\n",
    "\n",
    "df_date_grouped = df.sort_values('date').groupby(['member','item']).agg('|'.join).reset_index()\n",
    "df_date_grouped['n_buys'] = df_date_grouped['date'].apply(lambda x: len(x.split('|')))\n",
    "df_date_grouped = df_date_grouped[df_date_grouped['n_buys'] > 1]\n",
    "df_date_grouped.drop('n_buys', axis=1)\n",
    "df_date_grouped = df_date_grouped.sort_values('n_buys', ascending=False)\n",
    "df_date_grouped['date'] = df_date_grouped['date'].apply(lambda x: x.split('|'))\n",
    "df_date_grouped['date'] = df_date_grouped['date'].apply(lambda x: sorted([datetime.strptime(x_, '%d-%m-%Y') for x_ in x]))\n",
    "df_date_grouped['date_mean'] = df_date_grouped['date'].apply(lambda x: np.mean([x_.days for x_ in np.diff(x)]))\n",
    "df_date_grouped['date_std'] = df_date_grouped['date'].apply(lambda x: np.std(np.diff([x_.days for x_ in np.diff(x)])))"
   ]
  },
  {
   "cell_type": "code",
   "execution_count": 185,
   "id": "571ecace-00e3-48ab-b15c-688dce4e62e4",
   "metadata": {},
   "outputs": [
    {
     "data": {
      "text/html": [
       "<div>\n",
       "<style scoped>\n",
       "    .dataframe tbody tr th:only-of-type {\n",
       "        vertical-align: middle;\n",
       "    }\n",
       "\n",
       "    .dataframe tbody tr th {\n",
       "        vertical-align: top;\n",
       "    }\n",
       "\n",
       "    .dataframe thead th {\n",
       "        text-align: right;\n",
       "    }\n",
       "</style>\n",
       "<table border=\"1\" class=\"dataframe\">\n",
       "  <thead>\n",
       "    <tr style=\"text-align: right;\">\n",
       "      <th></th>\n",
       "      <th>member</th>\n",
       "      <th>item</th>\n",
       "      <th>date</th>\n",
       "      <th>n_buys</th>\n",
       "      <th>date_mean</th>\n",
       "      <th>date_std</th>\n",
       "    </tr>\n",
       "  </thead>\n",
       "  <tbody>\n",
       "    <tr>\n",
       "      <th>12065</th>\n",
       "      <td>2390</td>\n",
       "      <td>other vegetables</td>\n",
       "      <td>[2014-01-18 00:00:00, 2014-01-18 00:00:00, 201...</td>\n",
       "      <td>6</td>\n",
       "      <td>116.00</td>\n",
       "      <td>171.413973</td>\n",
       "    </tr>\n",
       "    <tr>\n",
       "      <th>22322</th>\n",
       "      <td>3582</td>\n",
       "      <td>whole milk</td>\n",
       "      <td>[2014-04-08 00:00:00, 2014-05-27 00:00:00, 201...</td>\n",
       "      <td>5</td>\n",
       "      <td>108.75</td>\n",
       "      <td>236.466112</td>\n",
       "    </tr>\n",
       "    <tr>\n",
       "      <th>16170</th>\n",
       "      <td>2861</td>\n",
       "      <td>whole milk</td>\n",
       "      <td>[2014-04-15 00:00:00, 2014-10-25 00:00:00, 201...</td>\n",
       "      <td>5</td>\n",
       "      <td>149.00</td>\n",
       "      <td>158.293679</td>\n",
       "    </tr>\n",
       "    <tr>\n",
       "      <th>33694</th>\n",
       "      <td>4864</td>\n",
       "      <td>whole milk</td>\n",
       "      <td>[2014-12-03 00:00:00, 2015-03-27 00:00:00, 201...</td>\n",
       "      <td>5</td>\n",
       "      <td>91.50</td>\n",
       "      <td>180.695570</td>\n",
       "    </tr>\n",
       "    <tr>\n",
       "      <th>3136</th>\n",
       "      <td>1363</td>\n",
       "      <td>whole milk</td>\n",
       "      <td>[2014-07-21 00:00:00, 2015-06-16 00:00:00, 201...</td>\n",
       "      <td>5</td>\n",
       "      <td>112.50</td>\n",
       "      <td>187.631435</td>\n",
       "    </tr>\n",
       "    <tr>\n",
       "      <th>...</th>\n",
       "      <td>...</td>\n",
       "      <td>...</td>\n",
       "      <td>...</td>\n",
       "      <td>...</td>\n",
       "      <td>...</td>\n",
       "      <td>...</td>\n",
       "    </tr>\n",
       "    <tr>\n",
       "      <th>12516</th>\n",
       "      <td>2440</td>\n",
       "      <td>bottled beer</td>\n",
       "      <td>[2015-03-02 00:00:00, 2015-06-19 00:00:00]</td>\n",
       "      <td>2</td>\n",
       "      <td>109.00</td>\n",
       "      <td>NaN</td>\n",
       "    </tr>\n",
       "    <tr>\n",
       "      <th>12520</th>\n",
       "      <td>2440</td>\n",
       "      <td>domestic eggs</td>\n",
       "      <td>[2014-01-28 00:00:00, 2014-11-10 00:00:00]</td>\n",
       "      <td>2</td>\n",
       "      <td>286.00</td>\n",
       "      <td>NaN</td>\n",
       "    </tr>\n",
       "    <tr>\n",
       "      <th>12539</th>\n",
       "      <td>2441</td>\n",
       "      <td>canned beer</td>\n",
       "      <td>[2014-08-28 00:00:00, 2015-05-31 00:00:00]</td>\n",
       "      <td>2</td>\n",
       "      <td>276.00</td>\n",
       "      <td>NaN</td>\n",
       "    </tr>\n",
       "    <tr>\n",
       "      <th>12557</th>\n",
       "      <td>2443</td>\n",
       "      <td>pastry</td>\n",
       "      <td>[2014-09-02 00:00:00, 2015-01-12 00:00:00]</td>\n",
       "      <td>2</td>\n",
       "      <td>132.00</td>\n",
       "      <td>NaN</td>\n",
       "    </tr>\n",
       "    <tr>\n",
       "      <th>34754</th>\n",
       "      <td>4999</td>\n",
       "      <td>other vegetables</td>\n",
       "      <td>[2014-05-19 00:00:00, 2015-01-24 00:00:00]</td>\n",
       "      <td>2</td>\n",
       "      <td>250.00</td>\n",
       "      <td>NaN</td>\n",
       "    </tr>\n",
       "  </tbody>\n",
       "</table>\n",
       "<p>3471 rows × 6 columns</p>\n",
       "</div>"
      ],
      "text/plain": [
       "      member              item  \\\n",
       "12065   2390  other vegetables   \n",
       "22322   3582        whole milk   \n",
       "16170   2861        whole milk   \n",
       "33694   4864        whole milk   \n",
       "3136    1363        whole milk   \n",
       "...      ...               ...   \n",
       "12516   2440      bottled beer   \n",
       "12520   2440     domestic eggs   \n",
       "12539   2441       canned beer   \n",
       "12557   2443            pastry   \n",
       "34754   4999  other vegetables   \n",
       "\n",
       "                                                    date  n_buys  date_mean  \\\n",
       "12065  [2014-01-18 00:00:00, 2014-01-18 00:00:00, 201...       6     116.00   \n",
       "22322  [2014-04-08 00:00:00, 2014-05-27 00:00:00, 201...       5     108.75   \n",
       "16170  [2014-04-15 00:00:00, 2014-10-25 00:00:00, 201...       5     149.00   \n",
       "33694  [2014-12-03 00:00:00, 2015-03-27 00:00:00, 201...       5      91.50   \n",
       "3136   [2014-07-21 00:00:00, 2015-06-16 00:00:00, 201...       5     112.50   \n",
       "...                                                  ...     ...        ...   \n",
       "12516         [2015-03-02 00:00:00, 2015-06-19 00:00:00]       2     109.00   \n",
       "12520         [2014-01-28 00:00:00, 2014-11-10 00:00:00]       2     286.00   \n",
       "12539         [2014-08-28 00:00:00, 2015-05-31 00:00:00]       2     276.00   \n",
       "12557         [2014-09-02 00:00:00, 2015-01-12 00:00:00]       2     132.00   \n",
       "34754         [2014-05-19 00:00:00, 2015-01-24 00:00:00]       2     250.00   \n",
       "\n",
       "         date_std  \n",
       "12065  171.413973  \n",
       "22322  236.466112  \n",
       "16170  158.293679  \n",
       "33694  180.695570  \n",
       "3136   187.631435  \n",
       "...           ...  \n",
       "12516         NaN  \n",
       "12520         NaN  \n",
       "12539         NaN  \n",
       "12557         NaN  \n",
       "34754         NaN  \n",
       "\n",
       "[3471 rows x 6 columns]"
      ]
     },
     "execution_count": 185,
     "metadata": {},
     "output_type": "execute_result"
    }
   ],
   "source": [
    "df_date_grouped"
   ]
  },
  {
   "cell_type": "code",
   "execution_count": 175,
   "id": "1bf3674e-bba9-46f4-ab35-d409d39bc492",
   "metadata": {},
   "outputs": [
    {
     "data": {
      "text/plain": [
       "<Axes: ylabel='Density'>"
      ]
     },
     "execution_count": 175,
     "metadata": {},
     "output_type": "execute_result"
    },
    {
     "data": {
      "image/png": "[encoded data removed]",
      "text/plain": [
       "<Figure size 640x480 with 1 Axes>"
      ]
     },
     "metadata": {},
     "output_type": "display_data"
    }
   ],
   "source": [
    "# df_date_grouped.apply(lambda x: np.average(x.wt, weights=x.value))\n",
    "# (values * weights).groupby(by).sum() / weights.groupby(by).sum()\n",
    "df_date_grouped['date_mean'].plot(kind='kde')"
   ]
  },
  {
   "cell_type": "code",
   "execution_count": 187,
   "id": "a144181c-49ee-46b0-b933-088a22d330ac",
   "metadata": {},
   "outputs": [
    {
     "data": {
      "text/html": [
       "<div>\n",
       "<style scoped>\n",
       "    .dataframe tbody tr th:only-of-type {\n",
       "        vertical-align: middle;\n",
       "    }\n",
       "\n",
       "    .dataframe tbody tr th {\n",
       "        vertical-align: top;\n",
       "    }\n",
       "\n",
       "    .dataframe thead th {\n",
       "        text-align: right;\n",
       "    }\n",
       "</style>\n",
       "<table border=\"1\" class=\"dataframe\">\n",
       "  <thead>\n",
       "    <tr style=\"text-align: right;\">\n",
       "      <th></th>\n",
       "      <th>item</th>\n",
       "      <th>date_mean</th>\n",
       "      <th>sum_n_buys</th>\n",
       "    </tr>\n",
       "  </thead>\n",
       "  <tbody>\n",
       "    <tr>\n",
       "      <th>0</th>\n",
       "      <td>UHT-milk</td>\n",
       "      <td>256.062500</td>\n",
       "      <td>33</td>\n",
       "    </tr>\n",
       "    <tr>\n",
       "      <th>1</th>\n",
       "      <td>baking powder</td>\n",
       "      <td>0.000000</td>\n",
       "      <td>2</td>\n",
       "    </tr>\n",
       "    <tr>\n",
       "      <th>2</th>\n",
       "      <td>beef</td>\n",
       "      <td>227.893617</td>\n",
       "      <td>97</td>\n",
       "    </tr>\n",
       "    <tr>\n",
       "      <th>3</th>\n",
       "      <td>berries</td>\n",
       "      <td>219.687500</td>\n",
       "      <td>32</td>\n",
       "    </tr>\n",
       "    <tr>\n",
       "      <th>4</th>\n",
       "      <td>beverages</td>\n",
       "      <td>142.875000</td>\n",
       "      <td>17</td>\n",
       "    </tr>\n",
       "    <tr>\n",
       "      <th>...</th>\n",
       "      <td>...</td>\n",
       "      <td>...</td>\n",
       "      <td>...</td>\n",
       "    </tr>\n",
       "    <tr>\n",
       "      <th>93</th>\n",
       "      <td>whipped/sour cream</td>\n",
       "      <td>209.935185</td>\n",
       "      <td>113</td>\n",
       "    </tr>\n",
       "    <tr>\n",
       "      <th>94</th>\n",
       "      <td>white bread</td>\n",
       "      <td>205.812500</td>\n",
       "      <td>32</td>\n",
       "    </tr>\n",
       "    <tr>\n",
       "      <th>95</th>\n",
       "      <td>white wine</td>\n",
       "      <td>182.750000</td>\n",
       "      <td>8</td>\n",
       "    </tr>\n",
       "    <tr>\n",
       "      <th>96</th>\n",
       "      <td>whole milk</td>\n",
       "      <td>181.818508</td>\n",
       "      <td>1250</td>\n",
       "    </tr>\n",
       "    <tr>\n",
       "      <th>97</th>\n",
       "      <td>yogurt</td>\n",
       "      <td>182.295068</td>\n",
       "      <td>427</td>\n",
       "    </tr>\n",
       "  </tbody>\n",
       "</table>\n",
       "<p>98 rows × 3 columns</p>\n",
       "</div>"
      ],
      "text/plain": [
       "                  item   date_mean  sum_n_buys\n",
       "0             UHT-milk  256.062500          33\n",
       "1        baking powder    0.000000           2\n",
       "2                 beef  227.893617          97\n",
       "3              berries  219.687500          32\n",
       "4            beverages  142.875000          17\n",
       "..                 ...         ...         ...\n",
       "93  whipped/sour cream  209.935185         113\n",
       "94         white bread  205.812500          32\n",
       "95          white wine  182.750000           8\n",
       "96          whole milk  181.818508        1250\n",
       "97              yogurt  182.295068         427\n",
       "\n",
       "[98 rows x 3 columns]"
      ]
     },
     "execution_count": 187,
     "metadata": {},
     "output_type": "execute_result"
    }
   ],
   "source": [
    "df_date_grouped_item = df_date_grouped.groupby('item')['date_mean'].mean().reset_index()\n",
    "df_date_grouped_item['sum_n_buys'] = df_date_grouped.groupby('item')['n_buys'].sum().reset_index()['n_buys']\n",
    "df_date_grouped_item"
   ]
  },
  {
   "cell_type": "code",
   "execution_count": 188,
   "id": "604bba5a-72f9-4267-acb5-6636e448de33",
   "metadata": {},
   "outputs": [
    {
     "data": {
      "text/plain": [
       "<Axes: xlabel='date_mean', ylabel='sum_n_buys'>"
      ]
     },
     "execution_count": 188,
     "metadata": {},
     "output_type": "execute_result"
    },
    {
     "data": {
      "image/png": "[encoded data removed]",
      "text/plain": [
       "<Figure size 640x480 with 1 Axes>"
      ]
     },
     "metadata": {},
     "output_type": "display_data"
    }
   ],
   "source": [
    "import seaborn as sns\n",
    "sns.scatterplot(data=df_date_grouped_item, x=\"date_mean\", y=\"sum_n_buys\")"
   ]
  },
  {
   "cell_type": "code",
   "execution_count": 191,
   "id": "ae422e55-83a2-4f3e-bfae-5a09e14fe984",
   "metadata": {},
   "outputs": [
    {
     "data": {
      "text/plain": [
       "<Axes: >"
      ]
     },
     "execution_count": 191,
     "metadata": {},
     "output_type": "execute_result"
    },
    {
     "data": {
      "image/png": "[encoded data removed]",
      "text/plain": [
       "<Figure size 640x480 with 1 Axes>"
      ]
     },
     "metadata": {},
     "output_type": "display_data"
    }
   ],
   "source": [
    "df_date_grouped_item['sum_n_buys'].hist()"
   ]
  },
  {
   "cell_type": "code",
   "execution_count": 192,
   "id": "df6566b7-622b-4e7e-ada3-a9e7f7dca1af",
   "metadata": {},
   "outputs": [
    {
     "data": {
      "text/html": [
       "<div>\n",
       "<style scoped>\n",
       "    .dataframe tbody tr th:only-of-type {\n",
       "        vertical-align: middle;\n",
       "    }\n",
       "\n",
       "    .dataframe tbody tr th {\n",
       "        vertical-align: top;\n",
       "    }\n",
       "\n",
       "    .dataframe thead th {\n",
       "        text-align: right;\n",
       "    }\n",
       "</style>\n",
       "<table border=\"1\" class=\"dataframe\">\n",
       "  <thead>\n",
       "    <tr style=\"text-align: right;\">\n",
       "      <th></th>\n",
       "      <th>item</th>\n",
       "      <th>date_mean</th>\n",
       "      <th>sum_n_buys</th>\n",
       "    </tr>\n",
       "  </thead>\n",
       "  <tbody>\n",
       "    <tr>\n",
       "      <th>0</th>\n",
       "      <td>UHT-milk</td>\n",
       "      <td>256.062500</td>\n",
       "      <td>33</td>\n",
       "    </tr>\n",
       "    <tr>\n",
       "      <th>1</th>\n",
       "      <td>baking powder</td>\n",
       "      <td>0.000000</td>\n",
       "      <td>2</td>\n",
       "    </tr>\n",
       "    <tr>\n",
       "      <th>2</th>\n",
       "      <td>beef</td>\n",
       "      <td>227.893617</td>\n",
       "      <td>97</td>\n",
       "    </tr>\n",
       "    <tr>\n",
       "      <th>3</th>\n",
       "      <td>berries</td>\n",
       "      <td>219.687500</td>\n",
       "      <td>32</td>\n",
       "    </tr>\n",
       "    <tr>\n",
       "      <th>4</th>\n",
       "      <td>beverages</td>\n",
       "      <td>142.875000</td>\n",
       "      <td>17</td>\n",
       "    </tr>\n",
       "    <tr>\n",
       "      <th>...</th>\n",
       "      <td>...</td>\n",
       "      <td>...</td>\n",
       "      <td>...</td>\n",
       "    </tr>\n",
       "    <tr>\n",
       "      <th>93</th>\n",
       "      <td>whipped/sour cream</td>\n",
       "      <td>209.935185</td>\n",
       "      <td>113</td>\n",
       "    </tr>\n",
       "    <tr>\n",
       "      <th>94</th>\n",
       "      <td>white bread</td>\n",
       "      <td>205.812500</td>\n",
       "      <td>32</td>\n",
       "    </tr>\n",
       "    <tr>\n",
       "      <th>95</th>\n",
       "      <td>white wine</td>\n",
       "      <td>182.750000</td>\n",
       "      <td>8</td>\n",
       "    </tr>\n",
       "    <tr>\n",
       "      <th>96</th>\n",
       "      <td>whole milk</td>\n",
       "      <td>181.818508</td>\n",
       "      <td>1250</td>\n",
       "    </tr>\n",
       "    <tr>\n",
       "      <th>97</th>\n",
       "      <td>yogurt</td>\n",
       "      <td>182.295068</td>\n",
       "      <td>427</td>\n",
       "    </tr>\n",
       "  </tbody>\n",
       "</table>\n",
       "<p>98 rows × 3 columns</p>\n",
       "</div>"
      ],
      "text/plain": [
       "                  item   date_mean  sum_n_buys\n",
       "0             UHT-milk  256.062500          33\n",
       "1        baking powder    0.000000           2\n",
       "2                 beef  227.893617          97\n",
       "3              berries  219.687500          32\n",
       "4            beverages  142.875000          17\n",
       "..                 ...         ...         ...\n",
       "93  whipped/sour cream  209.935185         113\n",
       "94         white bread  205.812500          32\n",
       "95          white wine  182.750000           8\n",
       "96          whole milk  181.818508        1250\n",
       "97              yogurt  182.295068         427\n",
       "\n",
       "[98 rows x 3 columns]"
      ]
     },
     "execution_count": 192,
     "metadata": {},
     "output_type": "execute_result"
    }
   ],
   "source": [
    "df_date_grouped_item"
   ]
  }
 ],
 "metadata": {
  "kernelspec": {
   "display_name": "Python 3 (ipykernel)",
   "language": "python",
   "name": "python3"
  },
  "language_info": {
   "codemirror_mode": {
    "name": "ipython",
    "version": 3
   },
   "file_extension": ".py",
   "mimetype": "text/x-python",
   "name": "python",
   "nbconvert_exporter": "python",
   "pygments_lexer": "ipython3",
   "version": "3.10.14"
  }
 },
 "nbformat": 4,
 "nbformat_minor": 5
}
